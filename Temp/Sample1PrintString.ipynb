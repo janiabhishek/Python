{
  "nbformat": 4,
  "nbformat_minor": 0,
  "metadata": {
    "colab": {
      "name": "Untitled0.ipynb",
      "provenance": [],
      "authorship_tag": "ABX9TyMemHWuCSCE1V54eoPndkrv",
      "include_colab_link": true
    },
    "kernelspec": {
      "name": "python3",
      "display_name": "Python 3"
    }
  },
  "cells": [
    {
      "cell_type": "markdown",
      "metadata": {
        "id": "view-in-github",
        "colab_type": "text"
      },
      "source": [
        "<a href=\"https://colab.research.google.com/github/janiabhishek/Python/blob/master/Temp/Sample1PrintString.ipynb\" target=\"_parent\"><img src=\"https://colab.research.google.com/assets/colab-badge.svg\" alt=\"Open In Colab\"/></a>"
      ]
    },
    {
      "cell_type": "code",
      "metadata": {
        "id": "rzLMF1RUdYBJ",
        "colab_type": "code",
        "colab": {
          "base_uri": "https://localhost:8080/",
          "height": 85
        },
        "outputId": "8f70244f-59eb-4932-fa68-a1546c261936"
      },
      "source": [
        "# My First Python Program\n",
        "print(\"Hello World\")\n",
        "print('Monopoly')\n",
        "print(100)\n",
        "pi=22/7\n",
        "Name='Abhishek popatlal rughnathji \\\n",
        "Jani'\n",
        "print(Name)"
      ],
      "execution_count": 4,
      "outputs": [
        {
          "output_type": "stream",
          "text": [
            "Hello World\n",
            "Monopoly\n",
            "100\n",
            "Abhishek popatlal rughnathji Jani\n"
          ],
          "name": "stdout"
        }
      ]
    }
  ]
}